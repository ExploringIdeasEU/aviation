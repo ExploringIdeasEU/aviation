{
 "cells": [
  {
   "cell_type": "markdown",
   "metadata": {},
   "source": [
    "# Aviation - Part 1"
   ]
  },
  {
   "cell_type": "code",
   "execution_count": 1,
   "metadata": {
    "collapsed": true
   },
   "outputs": [],
   "source": [
    "import numpy as np\n",
    "import pandas as pd"
   ]
  },
  {
   "cell_type": "markdown",
   "metadata": {},
   "source": [
    "## 1. Reading the data file"
   ]
  },
  {
   "cell_type": "code",
   "execution_count": 2,
   "metadata": {
    "collapsed": true
   },
   "outputs": [],
   "source": [
    "columns  = ['Event Id', 'accident', 'Accident Number', 'Event Date',\n",
    "       'Location', 'Country', 'Latitude', 'Longitude', 'Airport Code',\n",
    "       'Airport Name', 'Injury Severity', 'Aircraft Damage',\n",
    "       'Aircraft Category', 'Registration Number', 'Make', 'Model',\n",
    "       'Amateur Built', 'Number of Engines', 'Engine Type',\n",
    "       'FAR Description', 'Schedule', 'Purpose of Flight', 'Air Carrier',\n",
    "       'Total Fatal Injuries', 'Total Serious Injuries',\n",
    "       'Total Minor Injuries', 'Total Uninjured', 'Weather Condition',\n",
    "       'Broad Phase of Flight', 'Report Status', 'Publication Date',\n",
    "       'todel1']"
   ]
  },
  {
   "cell_type": "code",
   "execution_count": 3,
   "metadata": {
    "collapsed": true
   },
   "outputs": [],
   "source": [
    "parse_dates=[\"Event Date\"]"
   ]
  },
  {
   "cell_type": "code",
   "execution_count": 4,
   "metadata": {
    "collapsed": false
   },
   "outputs": [],
   "source": [
    "converters= { 'accident': lambda x: 1 if x.strip()=='Accident' else 0\n",
    "             ,'Country': lambda x: x.strip()\n",
    "             ,'Aircraft Category': lambda x: x.strip()\n",
    "             ,'Location': lambda x: x.strip()\n",
    "            }"
   ]
  },
  {
   "cell_type": "code",
   "execution_count": 5,
   "metadata": {
    "collapsed": false
   },
   "outputs": [
    {
     "data": {
      "text/plain": [
       "(77592, 32)"
      ]
     },
     "execution_count": 5,
     "metadata": {},
     "output_type": "execute_result"
    }
   ],
   "source": [
    "df = pd.read_csv('AviationData.txt', sep='|'\n",
    "                 , header=0, names=columns\n",
    "                 , converters=converters\n",
    "                 , parse_dates=parse_dates)\n",
    "\n",
    "## size of the dataset\n",
    "df.shape"
   ]
  },
  {
   "cell_type": "markdown",
   "metadata": {},
   "source": [
    "### 1.1 Filtering"
   ]
  },
  {
   "cell_type": "code",
   "execution_count": 6,
   "metadata": {
    "collapsed": true
   },
   "outputs": [],
   "source": [
    "#Filter by country: \"United States\"\n",
    "country = \"United States\"\n",
    "df = df[df.Country == country]"
   ]
  },
  {
   "cell_type": "code",
   "execution_count": 7,
   "metadata": {
    "collapsed": true
   },
   "outputs": [],
   "source": [
    "#Filter by Aircraft Category: \"Airplane\"\n",
    "aircraft_category = \"Airplane\"\n",
    "df = df[df['Aircraft Category'] == aircraft_category]"
   ]
  },
  {
   "cell_type": "markdown",
   "metadata": {},
   "source": [
    "### 1.2 Creating the _state_ column"
   ]
  },
  {
   "cell_type": "code",
   "execution_count": 8,
   "metadata": {
    "collapsed": false
   },
   "outputs": [],
   "source": [
    "# splitting\n",
    "\n",
    "#extract state from location \n",
    "df['state'] = df['Location'].map(lambda x: x.split(',')[-1].strip())"
   ]
  },
  {
   "cell_type": "markdown",
   "metadata": {},
   "source": [
    "### 1.3 More filtering"
   ]
  },
  {
   "cell_type": "code",
   "execution_count": 9,
   "metadata": {
    "collapsed": true
   },
   "outputs": [],
   "source": [
    "## filtering empty state rows\n",
    "df = df[df['state'] != '']"
   ]
  },
  {
   "cell_type": "markdown",
   "metadata": {},
   "source": [
    "## 2. Some Statistics"
   ]
  },
  {
   "cell_type": "code",
   "execution_count": 10,
   "metadata": {
    "collapsed": false
   },
   "outputs": [
    {
     "data": {
      "text/plain": [
       "'{\"CA\":1280,\"TX\":1011,\"FL\":887,\"AK\":875,\"AZ\":486,\"CO\":425,\"WA\":405,\"GA\":372,\"IL\":332,\"NY\":325,\"NC\":298,\"MI\":286,\"OH\":284,\"ID\":279,\"PA\":266,\"OR\":265,\"MO\":261,\"WI\":239,\"MN\":230,\"AR\":229,\"VA\":218,\"NM\":210,\"IN\":205,\"KS\":204,\"UT\":202,\"NV\":197,\"OK\":192,\"LA\":191,\"NJ\":184,\"AL\":182,\"MT\":179,\"SC\":179,\"TN\":177,\"IA\":159,\"MD\":144,\"WY\":135,\"MS\":134,\"MA\":129,\"KY\":126,\"NE\":121,\"ME\":93,\"ND\":86,\"SD\":76,\"CT\":69,\"WV\":63,\"HI\":50,\"NH\":49,\"PR\":33,\"VT\":32,\"RI\":22,\"DE\":16,\"GU\":8,\"DC\":7,\"VI\":7,\"GM\":5,\"AO\":3,\"PO\":3,\"FN\":2,\"MP\":2,\"ON\":1,\"AS\":1,\"UN\":1}'"
      ]
     },
     "execution_count": 10,
     "metadata": {},
     "output_type": "execute_result"
    }
   ],
   "source": [
    "df['state'].value_counts().to_json()"
   ]
  },
  {
   "cell_type": "code",
   "execution_count": 11,
   "metadata": {
    "collapsed": false
   },
   "outputs": [
    {
     "data": {
      "text/plain": [
       "62"
      ]
     },
     "execution_count": 11,
     "metadata": {},
     "output_type": "execute_result"
    }
   ],
   "source": [
    "len(df['state'].value_counts().keys())"
   ]
  },
  {
   "cell_type": "markdown",
   "metadata": {},
   "source": [
    "#### Observation"
   ]
  },
  {
   "cell_type": "markdown",
   "metadata": {},
   "source": [
    "But USA is a federal republic consisting of 50 states, one federal district (Washington, D.C.) and 5 inhabited territories (American Samoa, Guam, the Northern Mariana Islands, Puerto Rico, and the U.S. Virgin Islands)  making a total of 56 posible states but in dataset are 62 states. Some of this additional 'states' are: Atlantic Ocean (AO), Gulf of Mexic(GM), Pacific Ocean(PO), etc."
   ]
  },
  {
   "cell_type": "code",
   "execution_count": 12,
   "metadata": {
    "collapsed": false
   },
   "outputs": [
    {
     "data": {
      "text/plain": [
       "Index(['CA', 'TX', 'FL', 'AK', 'AZ', 'CO', 'WA', 'GA', 'IL', 'NY', 'NC', 'MI',\n",
       "       'OH', 'ID', 'PA', 'OR', 'MO', 'WI', 'MN', 'AR', 'VA', 'NM', 'IN', 'KS',\n",
       "       'UT', 'NV', 'OK', 'LA', 'NJ', 'AL', 'MT', 'SC', 'TN', 'IA', 'MD', 'WY',\n",
       "       'MS', 'MA', 'KY', 'NE', 'ME', 'ND', 'SD', 'CT', 'WV', 'HI', 'NH', 'PR',\n",
       "       'VT', 'RI', 'DE', 'GU', 'DC', 'VI', 'GM', 'AO', 'PO', 'FN', 'MP', 'ON',\n",
       "       'AS', 'UN'],\n",
       "      dtype='object')"
      ]
     },
     "execution_count": 12,
     "metadata": {},
     "output_type": "execute_result"
    }
   ],
   "source": [
    "df['state'].value_counts().keys()"
   ]
  },
  {
   "cell_type": "code",
   "execution_count": 13,
   "metadata": {
    "collapsed": true
   },
   "outputs": [],
   "source": [
    "#using a dictionary of states from: http://code.activestate.com/recipes/577305-python-dictionary-of-us-states-and-territories/\n",
    "states = {\n",
    "        'AK': 'Alaska',\n",
    "        'AL': 'Alabama',\n",
    "        'AR': 'Arkansas',\n",
    "        'AS': 'American Samoa',\n",
    "        'AZ': 'Arizona',\n",
    "        'CA': 'California',\n",
    "        'CO': 'Colorado',\n",
    "        'CT': 'Connecticut',\n",
    "        'DC': 'District of Columbia',\n",
    "        'DE': 'Delaware',\n",
    "        'FL': 'Florida',\n",
    "        'GA': 'Georgia',\n",
    "        'GU': 'Guam',\n",
    "        'HI': 'Hawaii',\n",
    "        'IA': 'Iowa',\n",
    "        'ID': 'Idaho',\n",
    "        'IL': 'Illinois',\n",
    "        'IN': 'Indiana',\n",
    "        'KS': 'Kansas',\n",
    "        'KY': 'Kentucky',\n",
    "        'LA': 'Louisiana',\n",
    "        'MA': 'Massachusetts',\n",
    "        'MD': 'Maryland',\n",
    "        'ME': 'Maine',\n",
    "        'MI': 'Michigan',\n",
    "        'MN': 'Minnesota',\n",
    "        'MO': 'Missouri',\n",
    "        'MP': 'Northern Mariana Islands',\n",
    "        'MS': 'Mississippi',\n",
    "        'MT': 'Montana',\n",
    "        'NA': 'National',\n",
    "        'NC': 'North Carolina',\n",
    "        'ND': 'North Dakota',\n",
    "        'NE': 'Nebraska',\n",
    "        'NH': 'New Hampshire',\n",
    "        'NJ': 'New Jersey',\n",
    "        'NM': 'New Mexico',\n",
    "        'NV': 'Nevada',\n",
    "        'NY': 'New York',\n",
    "        'OH': 'Ohio',\n",
    "        'OK': 'Oklahoma',\n",
    "        'OR': 'Oregon',\n",
    "        'PA': 'Pennsylvania',\n",
    "        'PR': 'Puerto Rico',\n",
    "        'RI': 'Rhode Island',\n",
    "        'SC': 'South Carolina',\n",
    "        'SD': 'South Dakota',\n",
    "        'TN': 'Tennessee',\n",
    "        'TX': 'Texas',\n",
    "        'UT': 'Utah',\n",
    "        'VA': 'Virginia',\n",
    "        'VI': 'Virgin Islands',\n",
    "        'VT': 'Vermont',\n",
    "        'WA': 'Washington',\n",
    "        'WI': 'Wisconsin',\n",
    "        'WV': 'West Virginia',\n",
    "        'WY': 'Wyoming'\n",
    "}"
   ]
  },
  {
   "cell_type": "markdown",
   "metadata": {},
   "source": [
    "__exploring unknown states__"
   ]
  },
  {
   "cell_type": "code",
   "execution_count": 14,
   "metadata": {
    "collapsed": false
   },
   "outputs": [
    {
     "name": "stdout",
     "output_type": "stream",
     "text": [
      "['GM', 'AO', 'PO', 'FN', 'ON', 'UN']\n"
     ]
    }
   ],
   "source": [
    "unknown_states = []\n",
    "for k in df['state'].value_counts().keys():\n",
    "    if not k in states:\n",
    "        unknown_states.append(k)\n",
    "print(unknown_states)\n"
   ]
  },
  {
   "cell_type": "code",
   "execution_count": 15,
   "metadata": {
    "collapsed": false
   },
   "outputs": [
    {
     "data": {
      "text/plain": [
       "467             Leixlip, FN\n",
       "1139          Barcelona, FN\n",
       "1187           HONOLULU, PO\n",
       "1446            Whitney, ON\n",
       "2627            Seattle, PO\n",
       "4223      Pacific Ocean, PO\n",
       "4790     Gulf of Mexico, GM\n",
       "5428     Atlantic Ocean, AO\n",
       "5521     Atlantic Ocean, AO\n",
       "6698            Montauk, AO\n",
       "6975            Unknown, GM\n",
       "8216     Gulf of Mexico, GM\n",
       "9980     Gulf of Mexico, GM\n",
       "10821    Gulf of Mexico, GM\n",
       "77589           Unknown, UN\n",
       "Name: Location, dtype: object"
      ]
     },
     "execution_count": 15,
     "metadata": {},
     "output_type": "execute_result"
    }
   ],
   "source": [
    "df.Location[df.state.isin(unknown_states)]"
   ]
  },
  {
   "cell_type": "code",
   "execution_count": 16,
   "metadata": {
    "collapsed": false
   },
   "outputs": [
    {
     "data": {
      "text/html": [
       "<div>\n",
       "<table border=\"1\" class=\"dataframe\">\n",
       "  <thead>\n",
       "    <tr style=\"text-align: right;\">\n",
       "      <th></th>\n",
       "      <th>Event Id</th>\n",
       "      <th>accident</th>\n",
       "      <th>Accident Number</th>\n",
       "      <th>Event Date</th>\n",
       "      <th>Location</th>\n",
       "      <th>Country</th>\n",
       "      <th>Latitude</th>\n",
       "      <th>Longitude</th>\n",
       "      <th>Airport Code</th>\n",
       "      <th>Airport Name</th>\n",
       "      <th>...</th>\n",
       "      <th>Total Fatal Injuries</th>\n",
       "      <th>Total Serious Injuries</th>\n",
       "      <th>Total Minor Injuries</th>\n",
       "      <th>Total Uninjured</th>\n",
       "      <th>Weather Condition</th>\n",
       "      <th>Broad Phase of Flight</th>\n",
       "      <th>Report Status</th>\n",
       "      <th>Publication Date</th>\n",
       "      <th>todel1</th>\n",
       "      <th>state</th>\n",
       "    </tr>\n",
       "  </thead>\n",
       "  <tbody>\n",
       "    <tr>\n",
       "      <th>467</th>\n",
       "      <td>20150812X90823</td>\n",
       "      <td>0</td>\n",
       "      <td>CEN15WA358B</td>\n",
       "      <td>2015-07-25</td>\n",
       "      <td>Leixlip, FN</td>\n",
       "      <td>United States</td>\n",
       "      <td></td>\n",
       "      <td></td>\n",
       "      <td></td>\n",
       "      <td></td>\n",
       "      <td>...</td>\n",
       "      <td></td>\n",
       "      <td></td>\n",
       "      <td></td>\n",
       "      <td>4</td>\n",
       "      <td></td>\n",
       "      <td>CRUISE</td>\n",
       "      <td>Foreign</td>\n",
       "      <td></td>\n",
       "      <td></td>\n",
       "      <td>FN</td>\n",
       "    </tr>\n",
       "    <tr>\n",
       "      <th>1139</th>\n",
       "      <td>20150407X75254</td>\n",
       "      <td>1</td>\n",
       "      <td>CEN15WA192</td>\n",
       "      <td>2015-03-04</td>\n",
       "      <td>Barcelona, FN</td>\n",
       "      <td>United States</td>\n",
       "      <td></td>\n",
       "      <td></td>\n",
       "      <td></td>\n",
       "      <td></td>\n",
       "      <td>...</td>\n",
       "      <td></td>\n",
       "      <td>1</td>\n",
       "      <td></td>\n",
       "      <td>8</td>\n",
       "      <td></td>\n",
       "      <td>CRUISE</td>\n",
       "      <td>Foreign</td>\n",
       "      <td></td>\n",
       "      <td></td>\n",
       "      <td>FN</td>\n",
       "    </tr>\n",
       "    <tr>\n",
       "      <th>1187</th>\n",
       "      <td>20150219X14806</td>\n",
       "      <td>1</td>\n",
       "      <td>DCA15LA067</td>\n",
       "      <td>2015-02-15</td>\n",
       "      <td>HONOLULU, PO</td>\n",
       "      <td>United States</td>\n",
       "      <td>22.608889</td>\n",
       "      <td>-153.843055</td>\n",
       "      <td></td>\n",
       "      <td>N/A</td>\n",
       "      <td>...</td>\n",
       "      <td></td>\n",
       "      <td>1</td>\n",
       "      <td>4</td>\n",
       "      <td>245</td>\n",
       "      <td>IMC</td>\n",
       "      <td>CRUISE</td>\n",
       "      <td>Preliminary</td>\n",
       "      <td>03/27/2015</td>\n",
       "      <td></td>\n",
       "      <td>PO</td>\n",
       "    </tr>\n",
       "    <tr>\n",
       "      <th>1446</th>\n",
       "      <td>20141120X02000</td>\n",
       "      <td>1</td>\n",
       "      <td>CEN15WA052</td>\n",
       "      <td>2014-11-11</td>\n",
       "      <td>Whitney, ON</td>\n",
       "      <td>United States</td>\n",
       "      <td>45.377223</td>\n",
       "      <td>-78.298055</td>\n",
       "      <td></td>\n",
       "      <td>N/A</td>\n",
       "      <td>...</td>\n",
       "      <td>2</td>\n",
       "      <td></td>\n",
       "      <td></td>\n",
       "      <td></td>\n",
       "      <td></td>\n",
       "      <td></td>\n",
       "      <td>Foreign</td>\n",
       "      <td></td>\n",
       "      <td></td>\n",
       "      <td>ON</td>\n",
       "    </tr>\n",
       "    <tr>\n",
       "      <th>2627</th>\n",
       "      <td>20140320X53321</td>\n",
       "      <td>1</td>\n",
       "      <td>DCA14CA083</td>\n",
       "      <td>2014-03-17</td>\n",
       "      <td>Seattle, PO</td>\n",
       "      <td>United States</td>\n",
       "      <td>0.000000</td>\n",
       "      <td>0.000000</td>\n",
       "      <td></td>\n",
       "      <td>N/A</td>\n",
       "      <td>...</td>\n",
       "      <td></td>\n",
       "      <td>1</td>\n",
       "      <td></td>\n",
       "      <td>264</td>\n",
       "      <td>VMC</td>\n",
       "      <td></td>\n",
       "      <td>Probable Cause</td>\n",
       "      <td>09/01/2015</td>\n",
       "      <td></td>\n",
       "      <td>PO</td>\n",
       "    </tr>\n",
       "    <tr>\n",
       "      <th>4223</th>\n",
       "      <td>20130220X51849</td>\n",
       "      <td>1</td>\n",
       "      <td>WPR13LA131</td>\n",
       "      <td>2013-02-19</td>\n",
       "      <td>Pacific Ocean, PO</td>\n",
       "      <td>United States</td>\n",
       "      <td>20.228056</td>\n",
       "      <td>-139.203056</td>\n",
       "      <td>SFO</td>\n",
       "      <td>San Francisco International Ai</td>\n",
       "      <td>...</td>\n",
       "      <td></td>\n",
       "      <td>1</td>\n",
       "      <td></td>\n",
       "      <td>220</td>\n",
       "      <td>VMC</td>\n",
       "      <td></td>\n",
       "      <td>Preliminary</td>\n",
       "      <td>03/13/2013</td>\n",
       "      <td></td>\n",
       "      <td>PO</td>\n",
       "    </tr>\n",
       "    <tr>\n",
       "      <th>4790</th>\n",
       "      <td>20120921X52540</td>\n",
       "      <td>1</td>\n",
       "      <td>CEN12LA652</td>\n",
       "      <td>2012-09-20</td>\n",
       "      <td>Gulf of Mexico, GM</td>\n",
       "      <td>United States</td>\n",
       "      <td></td>\n",
       "      <td></td>\n",
       "      <td></td>\n",
       "      <td></td>\n",
       "      <td>...</td>\n",
       "      <td></td>\n",
       "      <td></td>\n",
       "      <td>2</td>\n",
       "      <td></td>\n",
       "      <td>VMC</td>\n",
       "      <td></td>\n",
       "      <td>Probable Cause</td>\n",
       "      <td>11/06/2013</td>\n",
       "      <td></td>\n",
       "      <td>GM</td>\n",
       "    </tr>\n",
       "    <tr>\n",
       "      <th>5428</th>\n",
       "      <td>20120623X90739</td>\n",
       "      <td>1</td>\n",
       "      <td>ERA12LA410</td>\n",
       "      <td>2012-06-22</td>\n",
       "      <td>Atlantic Ocean, AO</td>\n",
       "      <td>United States</td>\n",
       "      <td>42.454444</td>\n",
       "      <td>-69.914444</td>\n",
       "      <td></td>\n",
       "      <td>None</td>\n",
       "      <td>...</td>\n",
       "      <td></td>\n",
       "      <td></td>\n",
       "      <td></td>\n",
       "      <td>1</td>\n",
       "      <td>VMC</td>\n",
       "      <td>CRUISE</td>\n",
       "      <td>Probable Cause</td>\n",
       "      <td>07/18/2013</td>\n",
       "      <td></td>\n",
       "      <td>AO</td>\n",
       "    </tr>\n",
       "    <tr>\n",
       "      <th>5521</th>\n",
       "      <td>20120616X31702</td>\n",
       "      <td>1</td>\n",
       "      <td>ERA12FAMS2</td>\n",
       "      <td>2012-06-08</td>\n",
       "      <td>Atlantic Ocean, AO</td>\n",
       "      <td>United States</td>\n",
       "      <td>39.670000</td>\n",
       "      <td>-72.221389</td>\n",
       "      <td></td>\n",
       "      <td></td>\n",
       "      <td>...</td>\n",
       "      <td>1</td>\n",
       "      <td></td>\n",
       "      <td></td>\n",
       "      <td></td>\n",
       "      <td>VMC</td>\n",
       "      <td>UNKNOWN</td>\n",
       "      <td>Probable Cause</td>\n",
       "      <td>11/27/2012</td>\n",
       "      <td></td>\n",
       "      <td>AO</td>\n",
       "    </tr>\n",
       "    <tr>\n",
       "      <th>6698</th>\n",
       "      <td>20111013X11758</td>\n",
       "      <td>1</td>\n",
       "      <td>DCA11WA110</td>\n",
       "      <td>2011-09-12</td>\n",
       "      <td>Montauk, AO</td>\n",
       "      <td>United States</td>\n",
       "      <td>40.785277</td>\n",
       "      <td>-71.526389</td>\n",
       "      <td></td>\n",
       "      <td></td>\n",
       "      <td>...</td>\n",
       "      <td></td>\n",
       "      <td>2</td>\n",
       "      <td></td>\n",
       "      <td>272</td>\n",
       "      <td></td>\n",
       "      <td>CLIMB</td>\n",
       "      <td>Foreign</td>\n",
       "      <td></td>\n",
       "      <td></td>\n",
       "      <td>AO</td>\n",
       "    </tr>\n",
       "    <tr>\n",
       "      <th>6975</th>\n",
       "      <td>20110804X94823</td>\n",
       "      <td>1</td>\n",
       "      <td>ERA11FAMS1</td>\n",
       "      <td>2011-08-01</td>\n",
       "      <td>Unknown, GM</td>\n",
       "      <td>United States</td>\n",
       "      <td>29.079445</td>\n",
       "      <td>-88.631667</td>\n",
       "      <td></td>\n",
       "      <td></td>\n",
       "      <td>...</td>\n",
       "      <td>1</td>\n",
       "      <td></td>\n",
       "      <td></td>\n",
       "      <td></td>\n",
       "      <td>VMC</td>\n",
       "      <td></td>\n",
       "      <td>Probable Cause</td>\n",
       "      <td>11/27/2012</td>\n",
       "      <td></td>\n",
       "      <td>GM</td>\n",
       "    </tr>\n",
       "    <tr>\n",
       "      <th>8216</th>\n",
       "      <td>20101207X95916</td>\n",
       "      <td>1</td>\n",
       "      <td>CEN11LA097</td>\n",
       "      <td>2010-12-04</td>\n",
       "      <td>Gulf of Mexico, GM</td>\n",
       "      <td>United States</td>\n",
       "      <td>27.633889</td>\n",
       "      <td>-89.133889</td>\n",
       "      <td></td>\n",
       "      <td></td>\n",
       "      <td>...</td>\n",
       "      <td></td>\n",
       "      <td></td>\n",
       "      <td></td>\n",
       "      <td>4</td>\n",
       "      <td>VMC</td>\n",
       "      <td></td>\n",
       "      <td>Probable Cause</td>\n",
       "      <td>10/03/2011</td>\n",
       "      <td></td>\n",
       "      <td>GM</td>\n",
       "    </tr>\n",
       "    <tr>\n",
       "      <th>9980</th>\n",
       "      <td>20091222X33027</td>\n",
       "      <td>1</td>\n",
       "      <td>ERA10FAMS1</td>\n",
       "      <td>2009-12-15</td>\n",
       "      <td>Gulf of Mexico, GM</td>\n",
       "      <td>United States</td>\n",
       "      <td>27.366111</td>\n",
       "      <td>-85.433611</td>\n",
       "      <td>SPG</td>\n",
       "      <td>Albert Whitted</td>\n",
       "      <td>...</td>\n",
       "      <td>1</td>\n",
       "      <td></td>\n",
       "      <td></td>\n",
       "      <td></td>\n",
       "      <td>VMC</td>\n",
       "      <td>UNKNOWN</td>\n",
       "      <td>Probable Cause</td>\n",
       "      <td>04/12/2011</td>\n",
       "      <td></td>\n",
       "      <td>GM</td>\n",
       "    </tr>\n",
       "    <tr>\n",
       "      <th>10821</th>\n",
       "      <td>20090709X74830</td>\n",
       "      <td>1</td>\n",
       "      <td>ERA09FA389</td>\n",
       "      <td>2009-07-08</td>\n",
       "      <td>Gulf of Mexico, GM</td>\n",
       "      <td>United States</td>\n",
       "      <td>28.445555</td>\n",
       "      <td>-83.122500</td>\n",
       "      <td></td>\n",
       "      <td></td>\n",
       "      <td>...</td>\n",
       "      <td>5</td>\n",
       "      <td></td>\n",
       "      <td></td>\n",
       "      <td></td>\n",
       "      <td>IMC</td>\n",
       "      <td></td>\n",
       "      <td>Probable Cause</td>\n",
       "      <td>04/28/2015</td>\n",
       "      <td></td>\n",
       "      <td>GM</td>\n",
       "    </tr>\n",
       "    <tr>\n",
       "      <th>77589</th>\n",
       "      <td>20130128X92153</td>\n",
       "      <td>1</td>\n",
       "      <td>WPR12TA445</td>\n",
       "      <td>2015-11-29</td>\n",
       "      <td>Unknown, UN</td>\n",
       "      <td>United States</td>\n",
       "      <td></td>\n",
       "      <td></td>\n",
       "      <td></td>\n",
       "      <td></td>\n",
       "      <td>...</td>\n",
       "      <td></td>\n",
       "      <td></td>\n",
       "      <td></td>\n",
       "      <td>1</td>\n",
       "      <td></td>\n",
       "      <td></td>\n",
       "      <td>Preliminary</td>\n",
       "      <td>02/08/2013</td>\n",
       "      <td></td>\n",
       "      <td>UN</td>\n",
       "    </tr>\n",
       "  </tbody>\n",
       "</table>\n",
       "<p>15 rows × 33 columns</p>\n",
       "</div>"
      ],
      "text/plain": [
       "              Event Id  accident Accident Number Event Date  \\\n",
       "467    20150812X90823          0    CEN15WA358B  2015-07-25   \n",
       "1139   20150407X75254          1     CEN15WA192  2015-03-04   \n",
       "1187   20150219X14806          1     DCA15LA067  2015-02-15   \n",
       "1446   20141120X02000          1     CEN15WA052  2014-11-11   \n",
       "2627   20140320X53321          1     DCA14CA083  2014-03-17   \n",
       "4223   20130220X51849          1     WPR13LA131  2013-02-19   \n",
       "4790   20120921X52540          1     CEN12LA652  2012-09-20   \n",
       "5428   20120623X90739          1     ERA12LA410  2012-06-22   \n",
       "5521   20120616X31702          1     ERA12FAMS2  2012-06-08   \n",
       "6698   20111013X11758          1     DCA11WA110  2011-09-12   \n",
       "6975   20110804X94823          1     ERA11FAMS1  2011-08-01   \n",
       "8216   20101207X95916          1     CEN11LA097  2010-12-04   \n",
       "9980   20091222X33027          1     ERA10FAMS1  2009-12-15   \n",
       "10821  20090709X74830          1     ERA09FA389  2009-07-08   \n",
       "77589  20130128X92153          1     WPR12TA445  2015-11-29   \n",
       "\n",
       "                 Location        Country     Latitude      Longitude  \\\n",
       "467           Leixlip, FN  United States                               \n",
       "1139        Barcelona, FN  United States                               \n",
       "1187         HONOLULU, PO  United States   22.608889    -153.843055    \n",
       "1446          Whitney, ON  United States   45.377223     -78.298055    \n",
       "2627          Seattle, PO  United States    0.000000       0.000000    \n",
       "4223    Pacific Ocean, PO  United States   20.228056    -139.203056    \n",
       "4790   Gulf of Mexico, GM  United States                               \n",
       "5428   Atlantic Ocean, AO  United States   42.454444     -69.914444    \n",
       "5521   Atlantic Ocean, AO  United States   39.670000     -72.221389    \n",
       "6698          Montauk, AO  United States   40.785277     -71.526389    \n",
       "6975          Unknown, GM  United States   29.079445     -88.631667    \n",
       "8216   Gulf of Mexico, GM  United States   27.633889     -89.133889    \n",
       "9980   Gulf of Mexico, GM  United States   27.366111     -85.433611    \n",
       "10821  Gulf of Mexico, GM  United States   28.445555     -83.122500    \n",
       "77589         Unknown, UN  United States                               \n",
       "\n",
       "      Airport Code                      Airport Name  ...   \\\n",
       "467                                                   ...    \n",
       "1139                                                  ...    \n",
       "1187                                            N/A   ...    \n",
       "1446                                            N/A   ...    \n",
       "2627                                            N/A   ...    \n",
       "4223          SFO    San Francisco International Ai   ...    \n",
       "4790                                                  ...    \n",
       "5428                                           None   ...    \n",
       "5521                                                  ...    \n",
       "6698                                                  ...    \n",
       "6975                                                  ...    \n",
       "8216                                                  ...    \n",
       "9980          SPG                    Albert Whitted   ...    \n",
       "10821                                                 ...    \n",
       "77589                                                 ...    \n",
       "\n",
       "      Total Fatal Injuries Total Serious Injuries Total Minor Injuries  \\\n",
       "467                                                                      \n",
       "1139                                           1                         \n",
       "1187                                           1                    4    \n",
       "1446                    2                                                \n",
       "2627                                           1                         \n",
       "4223                                           1                         \n",
       "4790                                                                2    \n",
       "5428                                                                     \n",
       "5521                    1                                                \n",
       "6698                                           2                         \n",
       "6975                    1                                                \n",
       "8216                                                                     \n",
       "9980                    1                                                \n",
       "10821                   5                                                \n",
       "77589                                                                    \n",
       "\n",
       "      Total Uninjured Weather Condition Broad Phase of Flight  \\\n",
       "467                4                                  CRUISE    \n",
       "1139               8                                  CRUISE    \n",
       "1187             245               IMC                CRUISE    \n",
       "1446                                                            \n",
       "2627             264               VMC                          \n",
       "4223             220               VMC                          \n",
       "4790                               VMC                          \n",
       "5428               1               VMC                CRUISE    \n",
       "5521                               VMC               UNKNOWN    \n",
       "6698             272                                   CLIMB    \n",
       "6975                               VMC                          \n",
       "8216               4               VMC                          \n",
       "9980                               VMC               UNKNOWN    \n",
       "10821                              IMC                          \n",
       "77589              1                                            \n",
       "\n",
       "          Report Status Publication Date todel1 state  \n",
       "467            Foreign                             FN  \n",
       "1139           Foreign                             FN  \n",
       "1187       Preliminary       03/27/2015            PO  \n",
       "1446           Foreign                             ON  \n",
       "2627    Probable Cause       09/01/2015            PO  \n",
       "4223       Preliminary       03/13/2013            PO  \n",
       "4790    Probable Cause       11/06/2013            GM  \n",
       "5428    Probable Cause       07/18/2013            AO  \n",
       "5521    Probable Cause       11/27/2012            AO  \n",
       "6698           Foreign                             AO  \n",
       "6975    Probable Cause       11/27/2012            GM  \n",
       "8216    Probable Cause       10/03/2011            GM  \n",
       "9980    Probable Cause       04/12/2011            GM  \n",
       "10821   Probable Cause       04/28/2015            GM  \n",
       "77589      Preliminary       02/08/2013            UN  \n",
       "\n",
       "[15 rows x 33 columns]"
      ]
     },
     "execution_count": 16,
     "metadata": {},
     "output_type": "execute_result"
    }
   ],
   "source": [
    "df[df.state.isin(unknown_states)]"
   ]
  },
  {
   "cell_type": "markdown",
   "metadata": {},
   "source": [
    "__deleting rows with  non-US states__"
   ]
  },
  {
   "cell_type": "code",
   "execution_count": 17,
   "metadata": {
    "collapsed": true
   },
   "outputs": [],
   "source": [
    "for x in ['GM', 'PO', 'AO', 'FN', 'UN', 'ON']:\n",
    "    df = df[df['state'] != x]"
   ]
  },
  {
   "cell_type": "markdown",
   "metadata": {},
   "source": [
    "__*oldest and newest records*__"
   ]
  },
  {
   "cell_type": "code",
   "execution_count": 18,
   "metadata": {
    "collapsed": false
   },
   "outputs": [
    {
     "data": {
      "text/plain": [
       "(Timestamp('1982-01-01 00:00:00'), Timestamp('2015-11-29 00:00:00'))"
      ]
     },
     "execution_count": 18,
     "metadata": {},
     "output_type": "execute_result"
    }
   ],
   "source": [
    "df['Event Date'].min(), df['Event Date'].max()"
   ]
  },
  {
   "cell_type": "markdown",
   "metadata": {},
   "source": [
    "## 3. Saving data for visualization"
   ]
  },
  {
   "cell_type": "code",
   "execution_count": 19,
   "metadata": {
    "collapsed": false
   },
   "outputs": [
    {
     "data": {
      "text/plain": [
       "(13117, 33)"
      ]
     },
     "execution_count": 19,
     "metadata": {},
     "output_type": "execute_result"
    }
   ],
   "source": [
    "df.shape"
   ]
  },
  {
   "cell_type": "markdown",
   "metadata": {},
   "source": [
    "__the dataset was reduced from an initial of 77592 rows to 13117__"
   ]
  },
  {
   "cell_type": "code",
   "execution_count": 20,
   "metadata": {
    "collapsed": false
   },
   "outputs": [],
   "source": [
    "df['state'].value_counts().to_json('graphs/data01.json')"
   ]
  }
 ],
 "metadata": {
  "kernelspec": {
   "display_name": "Python 3",
   "language": "python",
   "name": "python3"
  },
  "language_info": {
   "codemirror_mode": {
    "name": "ipython",
    "version": 3
   },
   "file_extension": ".py",
   "mimetype": "text/x-python",
   "name": "python",
   "nbconvert_exporter": "python",
   "pygments_lexer": "ipython3",
   "version": "3.4.3"
  }
 },
 "nbformat": 4,
 "nbformat_minor": 0
}
